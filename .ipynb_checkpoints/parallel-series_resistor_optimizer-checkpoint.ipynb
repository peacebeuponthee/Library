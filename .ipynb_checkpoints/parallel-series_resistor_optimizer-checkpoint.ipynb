{
 "cells": [
  {
   "cell_type": "code",
   "execution_count": 1,
   "id": "9ae135c6",
   "metadata": {},
   "outputs": [],
   "source": [
    "import numpy as np\n",
    "import pandas as pd"
   ]
  },
  {
   "cell_type": "code",
   "execution_count": 2,
   "id": "7e14c9b8",
   "metadata": {},
   "outputs": [],
   "source": [
    "E3 = np.array([1.0, 2.2, 4.7])"
   ]
  },
  {
   "cell_type": "code",
   "execution_count": 3,
   "id": "e45cf9d1",
   "metadata": {},
   "outputs": [],
   "source": [
    "E6 = np.array([1.0, 1.5, 2.2, 3.3, 4.7, 6.8])"
   ]
  },
  {
   "cell_type": "code",
   "execution_count": 4,
   "id": "f9da315b",
   "metadata": {},
   "outputs": [],
   "source": [
    "E12 = np.array([1.0, 1.2, 1.5, 1.8, 2.2, 2.7, 3.3, 3.9, 4.7, 5.6, 6.8, 8.2])"
   ]
  },
  {
   "cell_type": "code",
   "execution_count": 5,
   "id": "c5e14a58",
   "metadata": {},
   "outputs": [],
   "source": [
    "E24 = np.array([1.0, 1.1, 1.2, 1.3, 1.5, 1.6, 1.8, 2.0, 2.2, 2.4, 2.7, 3.0, 3.3, 3.6, 3.9, 4.3, 4.7, 5.1, 5.6, 6.2, 6.8, 7.5, 8.2, 9.1])"
   ]
  },
  {
   "cell_type": "code",
   "execution_count": 6,
   "id": "6dade3e7",
   "metadata": {},
   "outputs": [],
   "source": [
    "E48 = np.array([1.00, 1.05, 1.10, 1.15, 1.21, 1.27, 1.33, 1.40, 1.47, 1.54, 1.62, 1.69, 1.78, 1.87, 1.96, 2.05, 2.15, 2.26, 2.37, 2.49, 2.61, 2.74, 2.87, 3.01, 3.16, 3.32, 3.48, 3.65, 3.83, 4.02, 4.22, 4.42, 4.64, 4.87, 5.11, 5.36, 5.62, 5.90, 6.19, 6.49, 6.81, 7.15, 7.50, 7.87, 8.25, 8.66, 9.09, 9.53])"
   ]
  },
  {
   "cell_type": "code",
   "execution_count": 7,
   "id": "1a042961",
   "metadata": {},
   "outputs": [],
   "source": [
    "E96 = np.array([1.00, 1.02, 1.05, 1.07, 1.10, 1.13, 1.15, 1.18, 1.21, 1.24, 1.27, 1.30, 1.33, 1.37, 1.40, 1.43, 1.47, 1.50, 1.54, 1.58, 1.62, 1.65, 1.69, 1.74, 1.78, 1.82, 1.87, 1.91, 1.96, 2.00, 2.05, 2.10, 2.15, 2.21, 2.26, 2.32, 2.37, 2.43, 2.49, 2.55, 2.61, 2.67, 2.74, 2.80, 2.87, 2.94, 3.01, 3.09, 3.16, 3.24, 3.32, 3.40, 3.48, 3.57, 3.65, 3.74, 3.83, 3.92, 4.02, 4.12, 4.22, 4.32, 4.42, 4.53, 4.64, 4.75, 4.87, 4.99, 5.11, 5.23, 5.36, 5.49, 5.62, 5.76, 5.90, 6.04, 6.19, 6.34, 6.49, 6.65, 6.81, 6.98, 7.15, 7.32, 7.50, 7.68, 7.87, 8.06, 8.25, 8.45, 8.66, 8.87, 9.09, 9.31, 9.53, 9.76])"
   ]
  },
  {
   "cell_type": "markdown",
   "id": "f7fac0fc",
   "metadata": {},
   "source": [
    "The below function expands a series to the range from 1 Ohm to 10M"
   ]
  },
  {
   "cell_type": "code",
   "execution_count": 8,
   "id": "c38bff63",
   "metadata": {},
   "outputs": [],
   "source": [
    "def expand_series(series):\n",
    "    out = np.append(series,series * 10)\n",
    "    out = np.append(out,series * 100)\n",
    "    out = np.append(out,series * 1000)\n",
    "    out = np.append(out,series * 10000)\n",
    "    out = np.append(out,series * 100000)\n",
    "    out = np.append(out,series * 1000000)\n",
    "    return out.round(2)"
   ]
  },
  {
   "cell_type": "code",
   "execution_count": 9,
   "id": "1140f08a",
   "metadata": {},
   "outputs": [],
   "source": [
    "def to_tuple(series):\n",
    "    if type(series) is tuple:\n",
    "        return series\n",
    "    elif type(series) is list:\n",
    "        return ([str(x) for x in series],series)\n",
    "    elif type(series) is np.ndarray:\n",
    "        return ([str(x) for x in series],series)\n",
    "    else:\n",
    "        print('Unsuppored type. Must be either tuple or list or numpy.ndarray')"
   ]
  },
  {
   "cell_type": "markdown",
   "id": "e486878e",
   "metadata": {},
   "source": [
    "The add() fucntion to be used for series resistors or parallel capacitors"
   ]
  },
  {
   "cell_type": "code",
   "execution_count": 10,
   "id": "25738e3e",
   "metadata": {},
   "outputs": [],
   "source": [
    "def add(series1,series2=None):\n",
    "    if series2 is None:\n",
    "        s1 = to_tuple(series1)\n",
    "        val = [x + y for x in s1[1] for y in s1[1]]\n",
    "        ind = [x + ' + ' + y for x in s1[0] for y in s1[0]]\n",
    "        return (ind,val)\n",
    "    else:\n",
    "        s1 = to_tuple(series1)\n",
    "        s2 = to_tuple(series2)\n",
    "        val = [x + y for x in s1[1] for y in s2[1]]\n",
    "        ind = [x  + ' + ' + y for x in s1[0] for y in s2[0]]\n",
    "        return (ind,val)"
   ]
  },
  {
   "cell_type": "markdown",
   "id": "db3e21ec",
   "metadata": {},
   "source": [
    "The add_reciprocal() function to be used for parallel resistors or series caparitors"
   ]
  },
  {
   "cell_type": "code",
   "execution_count": 11,
   "id": "c312d5ef",
   "metadata": {},
   "outputs": [],
   "source": [
    "def add_reciprocal(series1,series2=None):\n",
    "    if series2 is None:\n",
    "        s1 = to_tuple(series1)\n",
    "        val = [ 1.0/(1.0/x + 1.0/y) for x in s1[1] for y in s1[1]]\n",
    "        ind = [x + ' // ' + y for x in s1[0] for y in s1[0]]\n",
    "        return (ind,val)\n",
    "    else:\n",
    "        s1 = to_tuple(series1)\n",
    "        s2 = to_tuple(series2)\n",
    "        val = [1.0/(1.0/x + 1.0/y) for x in s1[1] for y in s2[1]]\n",
    "        ind = [x  + ' + ' + y for x in s1[0] for y in s2[0]]\n",
    "        return (ind,val)"
   ]
  },
  {
   "cell_type": "code",
   "execution_count": 12,
   "id": "774b8a79",
   "metadata": {},
   "outputs": [],
   "source": [
    "def res_series(series,value,num_results=1):\n",
    "    ind,val = add(series)\n",
    "    pd_series = pd.Series(val,ind).drop_duplicates()\n",
    "    out = (pd_series - value).abs().sort_values()[:num_results]\n",
    "    return out"
   ]
  },
  {
   "cell_type": "code",
   "execution_count": 13,
   "id": "55e4ff86",
   "metadata": {},
   "outputs": [],
   "source": [
    "def res_parallel(series,value,num_results=1):\n",
    "    ind,val = add_reciprocal(series)\n",
    "    pd_series = pd.Series(val,ind).drop_duplicates()\n",
    "    out = (pd_series - value).abs().sort_values()[:num_results]\n",
    "    return out"
   ]
  },
  {
   "cell_type": "code",
   "execution_count": 14,
   "id": "5f806420",
   "metadata": {},
   "outputs": [
    {
     "name": "stdout",
     "output_type": "stream",
     "text": [
      "1.0 // 1.0    290.625000\n",
      "1.0 // 1.2    326.136364\n",
      "1.2 // 1.2    368.750000\n",
      "1.0 // 1.5    368.750000\n",
      "1.0 // 1.8    402.232143\n",
      "1.2 // 1.5    420.833333\n",
      "1.0 // 2.2    437.109375\n",
      "1.2 // 1.8    462.500000\n",
      "1.0 // 2.7    470.101351\n",
      "1.5 // 1.5    485.937500\n",
      "dtype: float64\n"
     ]
    }
   ],
   "source": [
    "print(res_parallel(expand_series(E12),0.128,10) / 0.128 * 100,sep='\\n')"
   ]
  },
  {
   "cell_type": "code",
   "execution_count": 315,
   "id": "c080e629",
   "metadata": {},
   "outputs": [
    {
     "name": "stdout",
     "output_type": "stream",
     "text": [
      "22000.0 + 1000000.0    0.174079\n",
      "18000.0 + 1000000.0    0.217991\n",
      "15000.0 + 1000000.0    0.512044\n",
      "27000.0 + 1000000.0    0.664168\n",
      "12000.0 + 1000000.0    0.806097\n",
      "470000.0 + 560000.0    0.958221\n",
      "10000.0 + 1000000.0    1.002133\n",
      "8200.0 + 1000000.0     1.178565\n",
      "33000.0 + 1000000.0    1.252274\n",
      "6800.0 + 1000000.0     1.315789\n",
      "dtype: float64\n"
     ]
    }
   ],
   "source": [
    "print(res_series(expand_series(E12),1020224,10) / 1020224 * 100,sep='\\n')"
   ]
  },
  {
   "cell_type": "code",
   "execution_count": 279,
   "id": "c5f2d6aa",
   "metadata": {},
   "outputs": [
    {
     "data": {
      "text/plain": [
       "336"
      ]
     },
     "execution_count": 279,
     "metadata": {},
     "output_type": "execute_result"
    }
   ],
   "source": [
    "len(expand_series(E48))"
   ]
  },
  {
   "cell_type": "code",
   "execution_count": null,
   "id": "d23c1c01",
   "metadata": {},
   "outputs": [],
   "source": []
  }
 ],
 "metadata": {
  "kernelspec": {
   "display_name": "Python 3 (ipykernel)",
   "language": "python",
   "name": "python3"
  },
  "language_info": {
   "codemirror_mode": {
    "name": "ipython",
    "version": 3
   },
   "file_extension": ".py",
   "mimetype": "text/x-python",
   "name": "python",
   "nbconvert_exporter": "python",
   "pygments_lexer": "ipython3",
   "version": "3.9.12"
  }
 },
 "nbformat": 4,
 "nbformat_minor": 5
}
